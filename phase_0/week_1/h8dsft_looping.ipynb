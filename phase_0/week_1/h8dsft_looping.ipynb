{
 "cells": [
  {
   "cell_type": "markdown",
   "metadata": {},
   "source": [
    "# Non Graded Challenge 1 from Hacktiv8\n",
    "\n",
    "Challenge for Looping\n",
    "\n",
    "Belajar menggunakan metode looping pada python\n"
   ]
  },
  {
   "cell_type": "code",
   "execution_count": 40,
   "metadata": {},
   "outputs": [
    {
     "name": "stdout",
     "output_type": "stream",
     "text": [
      "402 merupakan angka genap\n",
      "984 merupakan angka genap\n",
      "360 merupakan angka genap\n",
      "408 merupakan angka genap\n",
      "980 merupakan angka genap\n",
      "544 merupakan angka genap\n",
      "390 merupakan angka genap\n",
      "984 merupakan angka genap\n",
      "592 merupakan angka genap\n",
      "236 merupakan angka genap\n",
      "942 merupakan angka genap\n",
      "386 merupakan angka genap\n",
      "462 merupakan angka genap\n",
      "418 merupakan angka genap\n",
      "344 merupakan angka genap\n",
      "236 merupakan angka genap\n",
      "566 merupakan angka genap\n",
      "978 merupakan angka genap\n",
      "328 merupakan angka genap\n",
      "162 merupakan angka genap\n",
      "758 merupakan angka genap\n",
      "918 merupakan angka genap\n",
      "Done\n"
     ]
    }
   ],
   "source": [
    "\n",
    "for i in [951, 402, 984, 651, 360, 69, 408, 319, 601, 485, 980, 507, 725, 547, 544, 615, 83, 165, 141, 501, 263, \n",
    "617, 865, 575, 219, 390, 984, 592, 236, 105, 942, 941, 386, 462, 47, 418, 907, 344, 236, 375, 823, 566, 597, 978, \n",
    "328, 615, 953, 345, 399, 162, 758, 219, 918, 237, 412, 566, 826, 248, 866, 950, 626, 949]:\n",
    "    if i % 2 == 0:\n",
    "        print(f'{i} merupakan angka genap')\n",
    "    \n",
    "    if i == 918:\n",
    "        break\n",
    "\n",
    "print('Done')\n",
    "\n",
    "        \n",
    "   \n",
    "  "
   ]
  }
 ],
 "metadata": {
  "interpreter": {
   "hash": "4ce0e62306dd6a5716965d4519ada776f947e6dfc145b604b11307c10277ef29"
  },
  "kernelspec": {
   "display_name": "Python 3.10.4 64-bit",
   "language": "python",
   "name": "python3"
  },
  "language_info": {
   "codemirror_mode": {
    "name": "ipython",
    "version": 3
   },
   "file_extension": ".py",
   "mimetype": "text/x-python",
   "name": "python",
   "nbconvert_exporter": "python",
   "pygments_lexer": "ipython3",
   "version": "3.9.7"
  },
  "orig_nbformat": 4
 },
 "nbformat": 4,
 "nbformat_minor": 2
}
